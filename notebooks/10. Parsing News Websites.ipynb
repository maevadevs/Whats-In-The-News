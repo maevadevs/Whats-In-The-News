{
 "cells": [
  {
   "cell_type": "markdown",
   "id": "deadly-access",
   "metadata": {
    "toc": true
   },
   "source": [
    "<h1>Table of Contents<span class=\"tocSkip\"></span></h1>\n",
    "<div class=\"toc\"><ul class=\"toc-item\"><li><span><a href=\"#BBC-News\" data-toc-modified-id=\"BBC-News-1\"><span class=\"toc-item-num\">1&nbsp;&nbsp;</span>BBC News</a></span></li></ul></div>"
   ]
  },
  {
   "cell_type": "markdown",
   "id": "terminal-harbor",
   "metadata": {},
   "source": [
    "Using `Requests` and `BeautifulSoup`"
   ]
  },
  {
   "cell_type": "code",
   "execution_count": 1,
   "id": "floppy-behalf",
   "metadata": {},
   "outputs": [],
   "source": [
    "import requests\n",
    "import re\n",
    "from urllib.parse import urlparse\n",
    "from bs4 import BeautifulSoup as BS"
   ]
  },
  {
   "cell_type": "markdown",
   "id": "valid-triple",
   "metadata": {},
   "source": [
    "A helper function to check if we support the news site"
   ]
  },
  {
   "cell_type": "code",
   "execution_count": 2,
   "id": "hairy-coach",
   "metadata": {},
   "outputs": [],
   "source": [
    "def is_site_supported(url):\n",
    "    \n",
    "    supported_sites = [\n",
    "        \"bbc.com\", \"www.bbc.com\",\n",
    "        \"reuters.com\", \"www.reuters.com\"\n",
    "    ]\n",
    "    \n",
    "    parsed_url = urlparse(example_url)\n",
    "    #protocol = parsed_url.scheme\n",
    "    #site = parsed_url.netloc\n",
    "    #path = parsed_url.path\n",
    "    #params = parsed_url.params\n",
    "    #query = parsed_url.query\n",
    "    #fragment = parsed_url.fragment\n",
    "    \n",
    "    return parsed_url.netloc in supported_sites"
   ]
  },
  {
   "cell_type": "code",
   "execution_count": 3,
   "id": "pressed-google",
   "metadata": {},
   "outputs": [],
   "source": [
    "def get_title_and_contents(url):\n",
    "    \n",
    "    \"\"\"Get the title and the contents of a news article from the provided url if the news provider site is supported.\"\"\"\n",
    "    try:\n",
    "    \n",
    "        # Quick Shortcut: Check if site is supported\n",
    "        if (not is_site_supported(url)):\n",
    "            return \"Sorry, this site is currently not supported through this method.\"\n",
    "\n",
    "        # Send a request to get the webpage\n",
    "        res = requests.get(url)\n",
    "\n",
    "        # If 200, continue. Else, error\n",
    "        if (res.status_code != 200):\n",
    "            return \"Sorry, we cannot reach this page. Status Code: \" + res.status_code\n",
    "\n",
    "        # Pass response text to BeautifulSoup\n",
    "        soup = BS(res.text)\n",
    "\n",
    "        # Now, treat differently for each news source\n",
    "        site = urlparse(url).netloc\n",
    "\n",
    "        # List of currrently supported sites:\n",
    "        # -- bbc.com\n",
    "        # -- reuters.com\n",
    "\n",
    "        # Support for BBC News\n",
    "        if \"bbc.com\" in site:\n",
    "\n",
    "            # Get the Title\n",
    "            title = soup.find(\"article\").find(\"header\").find(\"h1\").text\n",
    "\n",
    "            # Get the Contents\n",
    "            raw_contents = soup.findAll(\"div\", {\"data-component\" : \"text-block\"})\n",
    "            contents = []\n",
    "\n",
    "            for div in raw_contents:\n",
    "                contents.append(div.find(\"p\").text)\n",
    "\n",
    "            contents = \" \".join(contents)\n",
    "\n",
    "            # Return title and contents as tuple\n",
    "            return (title, contents)\n",
    "\n",
    "        # Support for Reuters\n",
    "        if \"reuters.com\" in site:\n",
    "            \n",
    "            # Get the Title\n",
    "            title = soup.find(\"article\").find(\"header\").find(\"h1\").text\n",
    "            \n",
    "            # Get the Contents            \n",
    "            for part in soup.find(\"article\").select('div[class*=\"ArticleBody__content\"]'):\n",
    "                raw_contents = part\n",
    "\n",
    "            with_extra_spaces = re.sub('<[^<]+?>', ' ', str(raw_contents))\n",
    "            contents = re.sub('\\s\\s', ' ', str(with_extra_spaces)).strip()\n",
    "            \n",
    "            # Return title and contents as tuple\n",
    "            return (title, contents)\n",
    "    \n",
    "    except:\n",
    "        \n",
    "        return \"Sorry, this page is currently not supported through this method.\""
   ]
  },
  {
   "cell_type": "code",
   "execution_count": 4,
   "id": "academic-stations",
   "metadata": {},
   "outputs": [],
   "source": [
    "url = \"https://www.reuters.com/business/autos-transportation/daimler-pay-nokia-patent-fees-ending-legal-fight-2021-06-01/\""
   ]
  },
  {
   "cell_type": "code",
   "execution_count": 5,
   "id": "identical-committee",
   "metadata": {},
   "outputs": [],
   "source": [
    "res = requests.get(url)"
   ]
  },
  {
   "cell_type": "code",
   "execution_count": 6,
   "id": "caring-stock",
   "metadata": {},
   "outputs": [],
   "source": [
    "soup = BS(res.text)"
   ]
  },
  {
   "cell_type": "code",
   "execution_count": 7,
   "id": "aggressive-caution",
   "metadata": {},
   "outputs": [
    {
     "ename": "SyntaxError",
     "evalue": "invalid syntax (<ipython-input-7-d5f6938d3261>, line 4)",
     "output_type": "error",
     "traceback": [
      "\u001b[1;36m  File \u001b[1;32m\"<ipython-input-7-d5f6938d3261>\"\u001b[1;36m, line \u001b[1;32m4\u001b[0m\n\u001b[1;33m    .select('div[class*=\"ArticleBody__content\"]')\u001b[0m\n\u001b[1;37m    ^\u001b[0m\n\u001b[1;31mSyntaxError\u001b[0m\u001b[1;31m:\u001b[0m invalid syntax\n"
     ]
    }
   ],
   "source": [
    "title = soup.find(\"article\").find(\"header\").find(\"h1\").text\n",
    "\n",
    "\n",
    ".select('div[class*=\"ArticleBody__content\"]')\n",
    "\n",
    "title"
   ]
  },
  {
   "cell_type": "code",
   "execution_count": null,
   "id": "sticky-demonstration",
   "metadata": {},
   "outputs": [],
   "source": [
    "raw_text = \"\"\n",
    "for part in soup.find(\"article\").select('div[class*=\"ArticleBody__content\"]'):\n",
    "    raw_text = part\n",
    "\n",
    "extra_spaces = re.sub('<[^<]+?>', ' ', str(raw_text))\n",
    "clean = re.sub('\\s\\s', ' ', str(extra_spaces)).strip()\n",
    "clean"
   ]
  },
  {
   "cell_type": "code",
   "execution_count": null,
   "id": "biological-holiday",
   "metadata": {},
   "outputs": [],
   "source": []
  }
 ],
 "metadata": {
  "kernelspec": {
   "display_name": "Python 3",
   "language": "python",
   "name": "python3"
  },
  "language_info": {
   "codemirror_mode": {
    "name": "ipython",
    "version": 3
   },
   "file_extension": ".py",
   "mimetype": "text/x-python",
   "name": "python",
   "nbconvert_exporter": "python",
   "pygments_lexer": "ipython3",
   "version": "3.8.8"
  },
  "toc": {
   "base_numbering": 1,
   "nav_menu": {},
   "number_sections": true,
   "sideBar": true,
   "skip_h1_title": true,
   "title_cell": "Table of Contents",
   "title_sidebar": "Contents",
   "toc_cell": true,
   "toc_position": {
    "height": "calc(100% - 180px)",
    "left": "10px",
    "top": "150px",
    "width": "175px"
   },
   "toc_section_display": true,
   "toc_window_display": true
  },
  "varInspector": {
   "cols": {
    "lenName": 16,
    "lenType": 16,
    "lenVar": 40
   },
   "kernels_config": {
    "python": {
     "delete_cmd_postfix": "",
     "delete_cmd_prefix": "del ",
     "library": "var_list.py",
     "varRefreshCmd": "print(var_dic_list())"
    },
    "r": {
     "delete_cmd_postfix": ") ",
     "delete_cmd_prefix": "rm(",
     "library": "var_list.r",
     "varRefreshCmd": "cat(var_dic_list()) "
    }
   },
   "types_to_exclude": [
    "module",
    "function",
    "builtin_function_or_method",
    "instance",
    "_Feature"
   ],
   "window_display": false
  }
 },
 "nbformat": 4,
 "nbformat_minor": 5
}

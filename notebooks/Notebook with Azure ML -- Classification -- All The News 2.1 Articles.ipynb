{
  "cells": [
    {
      "cell_type": "markdown",
      "source": [
        "# Classification -- All The News 2.1 Articles"
      ],
      "metadata": {},
      "id": "3c8591c6"
    },
    {
      "cell_type": "markdown",
      "source": [
        "- Text Vectorization (from scikit-learn):\n",
        "  - TF-IDF Vectorizer\n",
        "- Classifiers (from scikit-learn):\n",
        "  - Random Forest\n",
        "  - Logistic Regression\n",
        "  - K-Nearest Neighbors\n",
        "  - Simple Decision Tree\n",
        "  - Gaussian Naive Bayes"
      ],
      "metadata": {},
      "id": "49ed6442"
    },
    {
      "cell_type": "markdown",
      "source": [
        "## Import Libraries and Set Settings"
      ],
      "metadata": {},
      "id": "d07a8851"
    },
    {
      "cell_type": "code",
      "source": [
        "!pip install wordcloud\n",
        "!pip install plotly\n",
        "!pip install nltk"
      ],
      "outputs": [
        {
          "output_type": "stream",
          "name": "stdout",
          "text": [
            "Collecting wordcloud\n",
            "  Downloading wordcloud-1.8.1-cp36-cp36m-manylinux1_x86_64.whl (366 kB)\n",
            "\u001b[K     |████████████████████████████████| 366 kB 35.1 MB/s eta 0:00:01\n",
            "\u001b[?25hRequirement already satisfied: pillow in /anaconda/envs/azureml_py36/lib/python3.6/site-packages (from wordcloud) (8.2.0)\n",
            "Requirement already satisfied: matplotlib in /anaconda/envs/azureml_py36/lib/python3.6/site-packages (from wordcloud) (3.2.1)\n",
            "Requirement already satisfied: numpy>=1.6.1 in /anaconda/envs/azureml_py36/lib/python3.6/site-packages (from wordcloud) (1.18.5)\n",
            "Requirement already satisfied: pyparsing!=2.0.4,!=2.1.2,!=2.1.6,>=2.0.1 in /anaconda/envs/azureml_py36/lib/python3.6/site-packages (from matplotlib->wordcloud) (2.4.7)\n",
            "Requirement already satisfied: python-dateutil>=2.1 in /anaconda/envs/azureml_py36/lib/python3.6/site-packages (from matplotlib->wordcloud) (2.8.1)\n",
            "Requirement already satisfied: kiwisolver>=1.0.1 in /anaconda/envs/azureml_py36/lib/python3.6/site-packages (from matplotlib->wordcloud) (1.3.1)\n",
            "Requirement already satisfied: cycler>=0.10 in /anaconda/envs/azureml_py36/lib/python3.6/site-packages (from matplotlib->wordcloud) (0.10.0)\n",
            "Requirement already satisfied: six>=1.5 in /anaconda/envs/azureml_py36/lib/python3.6/site-packages (from python-dateutil>=2.1->matplotlib->wordcloud) (1.16.0)\n",
            "Installing collected packages: wordcloud\n",
            "Successfully installed wordcloud-1.8.1\n",
            "Collecting plotly\n",
            "  Downloading plotly-4.14.3-py2.py3-none-any.whl (13.2 MB)\n",
            "\u001b[K     |████████████████████████████████| 13.2 MB 17.8 MB/s eta 0:00:01\n",
            "\u001b[?25hRequirement already satisfied: six in /anaconda/envs/azureml_py36/lib/python3.6/site-packages (from plotly) (1.16.0)\n",
            "Collecting retrying>=1.3.3\n",
            "  Downloading retrying-1.3.3.tar.gz (10 kB)\n",
            "Building wheels for collected packages: retrying\n",
            "  Building wheel for retrying (setup.py) ... \u001b[?25ldone\n",
            "\u001b[?25h  Created wheel for retrying: filename=retrying-1.3.3-py3-none-any.whl size=11429 sha256=31d99edfbdf6b64356cdb7c7c4c533bac5aeb80282c67000859b4fd38537d7ab\n",
            "  Stored in directory: /home/azureuser/.cache/pip/wheels/ac/cb/8a/b27bf6323e2f4c462dcbf77d70b7c5e7868a7fbe12871770cf\n",
            "Successfully built retrying\n",
            "Installing collected packages: retrying, plotly\n",
            "Successfully installed plotly-4.14.3 retrying-1.3.3\n",
            "Collecting nltk\n",
            "  Downloading nltk-3.6.2-py3-none-any.whl (1.5 MB)\n",
            "\u001b[K     |████████████████████████████████| 1.5 MB 26.5 MB/s eta 0:00:01\n",
            "\u001b[?25hRequirement already satisfied: tqdm in /anaconda/envs/azureml_py36/lib/python3.6/site-packages (from nltk) (4.60.0)\n",
            "Requirement already satisfied: click in /anaconda/envs/azureml_py36/lib/python3.6/site-packages (from nltk) (7.1.2)\n",
            "Requirement already satisfied: joblib in /anaconda/envs/azureml_py36/lib/python3.6/site-packages (from nltk) (0.14.1)\n",
            "Requirement already satisfied: regex in /anaconda/envs/azureml_py36/lib/python3.6/site-packages (from nltk) (2021.4.4)\n",
            "Installing collected packages: nltk\n",
            "Successfully installed nltk-3.6.2\n"
          ]
        }
      ],
      "execution_count": 1,
      "metadata": {},
      "id": "aa70f44c"
    },
    {
      "cell_type": "code",
      "source": [
        "import os                              # Python default package\n",
        "import numpy as np\n",
        "import pandas as pd\n",
        "import ipywidgets as widgets\n",
        "\n",
        "# from sqlalchemy import create_engine   # conda install -c anaconda sqlalchemy\n",
        "from wordcloud import WordCloud          # conda install -c conda-forge wordcloud\n",
        "from ipywidgets import interact, fixed\n",
        "\n",
        "# For visualizations\n",
        "import matplotlib.pyplot as plt\n",
        "import seaborn as sns\n",
        "import plotly.express as px\n",
        "import plotly.graph_objects as go\n",
        "\n",
        "# Azure ML Specific\n",
        "from azureml.core import Workspace, Dataset\n",
        "\n",
        "# SK-Learn\n",
        "from sklearn.model_selection import train_test_split\n",
        "\n",
        "# Text Manipulation\n",
        "import spacy"
      ],
      "outputs": [],
      "execution_count": 2,
      "metadata": {},
      "id": "ff8f460b"
    },
    {
      "cell_type": "code",
      "source": [
        "sns.set_theme(style=\"whitegrid\")\n",
        "pd.options.display.max_rows = 3000"
      ],
      "outputs": [],
      "execution_count": 3,
      "metadata": {},
      "id": "bfed0cb8"
    },
    {
      "cell_type": "markdown",
      "source": [
        "## Import Dataset\n",
        "\n",
        "In this notebook, we will be testing on `AllTheNews21_Training`"
      ],
      "metadata": {},
      "id": "a947a4dc"
    },
    {
      "cell_type": "code",
      "source": [
        "# Specific Azure ML for importing Datasets\n",
        "subscription_id = '546d9c91-7fcf-4547-836c-10b640e06628'\n",
        "resource_group = 'NSSCapstoneProject'\n",
        "workspace_name = 'AllTheNews21'\n",
        "\n",
        "# Create a Workspace\n",
        "workspace = Workspace(subscription_id, resource_group, workspace_name)\n",
        "\n",
        "# Download the dataset locally\n",
        "dataset = Dataset.get_by_name(workspace, name='AllTheNews21_Training')\n",
        "#dataset.download(target_path='./data/', overwrite=True)\n",
        "\n",
        "# Read from the local file\n",
        "#news = pd.read_csv(\"data/AllTheNews21_Training.csv\")\n",
        "news = dataset.to_pandas_dataframe()"
      ],
      "outputs": [
        {
          "output_type": "stream",
          "name": "stderr",
          "text": [
            "/anaconda/envs/azureml_py36/lib/python3.6/site-packages/azureml/dataprep/api/_dataframereader.py:238: UserWarning:\n",
            "\n",
            "Using alternate reader. Inconsistent or mixed schemas detected across partitions: partition had different number of columns. The first partition has 4 columns. Found partition has 135 columns.\n",
            "First partition columns (ordered): ['article', 'category', 'article_length', 'word_count']\n",
            "Found Partition has columns (ordered): ['article', 'category', 'article_length', 'word_count', 'Column6', 'Column7', 'Column8', 'Column9', 'Column10', 'Column11', 'Column12', 'Column13', 'Column14', 'Column15', 'Column16', 'Column17', 'Column18', 'Column19', 'Column20', 'Column21', 'Column22', 'Column23', 'Column24', 'Column25', 'Column26', 'Column27', 'Column28', 'Column29', 'Column30', 'Column31', 'Column32', 'Column33', 'Column34', 'Column35', 'Column36', 'Column37', 'Column38', 'Column39', 'Column40', 'Column41', 'Column42', 'Column43', 'Column44', 'Column45', 'Column46', 'Column47', 'Column48', 'Column49', 'Column50', 'Column51', 'Column52', 'Column53', 'Column54', 'Column55', 'Column56', 'Column57', 'Column58', 'Column59', 'Column60', 'Column61', 'Column62', 'Column63', 'Column64', 'Column65', 'Column66', 'Column67', 'Column68', 'Column69', 'Column70', 'Column71', 'Column72', 'Column73', 'Column74', 'Column75', 'Column76', 'Column77', 'Column78', 'Column79', 'Column80', 'Column81', 'Column82', 'Column83', 'Column84', 'Column85', 'Column86', 'Column87', 'Column88', 'Column89', 'Column90', 'Column91', 'Column92', 'Column93', 'Column94', 'Column95', 'Column96', 'Column97', 'Column98', 'Column99', 'Column100', 'Column101', 'Column102', 'Column103', 'Column104', 'Column105', 'Column106', 'Column107', 'Column108', 'Column109', 'Column110', 'Column111', 'Column112', 'Column113', 'Column114', 'Column115', 'Column116', 'Column117', 'Column118', 'Column119', 'Column120', 'Column121', 'Column122', 'Column123', 'Column124', 'Column125', 'Column126', 'Column127', 'Column128', 'Column129', 'Column130', 'Column131', 'Column132', 'Column133', 'Column134', 'Column135', 'Column136']\n",
            "\n",
            "/anaconda/envs/azureml_py36/lib/python3.6/site-packages/azureml/dataprep/api/_dataframereader.py:171: UserWarning:\n",
            "\n",
            "Please install pyarrow>=0.16.0 for improved performance of to_pandas_dataframe. You can ensure the correct version is installed by running: pip install pyarrow>=0.16.0 --upgrade\n",
            "\n"
          ]
        }
      ],
      "execution_count": null,
      "metadata": {},
      "id": "8a888778"
    },
    {
      "cell_type": "code",
      "source": [
        "\n",
        "\n",
        "display(news.shape)\n",
        "display(news.head())"
      ],
      "outputs": [],
      "execution_count": null,
      "metadata": {},
      "id": "ef25b0ba"
    },
    {
      "cell_type": "markdown",
      "source": [
        "### Some Post-Import Cleanups"
      ],
      "metadata": {},
      "id": "9db906d9"
    },
    {
      "cell_type": "code",
      "source": [
        "news = news.drop(columns=[\"Unnamed: 0\"])\n",
        "\n",
        "display(news.shape)\n",
        "display(news.head())"
      ],
      "outputs": [],
      "execution_count": null,
      "metadata": {
        "scrolled": true
      },
      "id": "863207f4"
    },
    {
      "cell_type": "markdown",
      "source": [
        "## EDA & Feature Engineering"
      ],
      "metadata": {},
      "id": "28dbd6dd"
    },
    {
      "cell_type": "markdown",
      "source": [
        "### How many unique classes in the category?"
      ],
      "metadata": {},
      "id": "7f46accc"
    },
    {
      "cell_type": "code",
      "source": [
        "display(len(news[\"category\"].unique()))\n",
        "display(news[\"category\"].unique())"
      ],
      "outputs": [],
      "execution_count": null,
      "metadata": {},
      "id": "75309c91"
    },
    {
      "cell_type": "markdown",
      "source": [
        "### How many rows and how many columns?"
      ],
      "metadata": {},
      "id": "537d33d6"
    },
    {
      "cell_type": "code",
      "source": [
        "news.shape"
      ],
      "outputs": [],
      "execution_count": null,
      "metadata": {},
      "id": "be9bfaef"
    },
    {
      "cell_type": "markdown",
      "source": [
        "### What are the data types of each columns?"
      ],
      "metadata": {},
      "id": "0dfc8641"
    },
    {
      "cell_type": "code",
      "source": [
        "news.dtypes"
      ],
      "outputs": [],
      "execution_count": null,
      "metadata": {},
      "id": "082aa76f"
    },
    {
      "cell_type": "markdown",
      "source": [
        "### Do we have any missing values?"
      ],
      "metadata": {},
      "id": "0c3aa06b"
    },
    {
      "cell_type": "code",
      "source": [
        "news.isnull().any()"
      ],
      "outputs": [],
      "execution_count": null,
      "metadata": {},
      "id": "9bbe8a39"
    },
    {
      "cell_type": "markdown",
      "source": [
        "### Is the target variable balanced or not?"
      ],
      "metadata": {},
      "id": "18eda384"
    },
    {
      "cell_type": "code",
      "source": [
        "sns.countplot(x = news[\"category\"]);"
      ],
      "outputs": [],
      "execution_count": null,
      "metadata": {},
      "id": "2a6c719e"
    },
    {
      "cell_type": "markdown",
      "source": [
        "### How is the distribution of `article_lengths`?"
      ],
      "metadata": {},
      "id": "4110c330"
    },
    {
      "cell_type": "code",
      "source": [
        "sns.histplot(x = news[\"article_length\"]).set_title(\"News Content Lengths Distribution\");"
      ],
      "outputs": [],
      "execution_count": null,
      "metadata": {},
      "id": "50b40c05"
    },
    {
      "cell_type": "code",
      "source": [
        "max(news[\"article_length\"])"
      ],
      "outputs": [],
      "execution_count": null,
      "metadata": {
        "scrolled": false
      },
      "id": "78dc9b09"
    },
    {
      "cell_type": "code",
      "source": [
        "min(news[\"article_length\"])"
      ],
      "outputs": [],
      "execution_count": null,
      "metadata": {},
      "id": "a8a15042"
    },
    {
      "cell_type": "markdown",
      "source": [
        "## Cleaning And Pre-Processing"
      ],
      "metadata": {},
      "id": "9d0c5d6a"
    },
    {
      "cell_type": "code",
      "source": [],
      "outputs": [],
      "execution_count": null,
      "metadata": {},
      "id": "88722116"
    },
    {
      "cell_type": "code",
      "source": [],
      "outputs": [],
      "execution_count": null,
      "metadata": {},
      "id": "4861550f"
    },
    {
      "cell_type": "code",
      "source": [],
      "outputs": [],
      "execution_count": null,
      "metadata": {},
      "id": "0e616e8a"
    },
    {
      "cell_type": "code",
      "source": [],
      "outputs": [],
      "execution_count": null,
      "metadata": {},
      "id": "c3a78788"
    },
    {
      "cell_type": "code",
      "source": [],
      "outputs": [],
      "execution_count": null,
      "metadata": {},
      "id": "aa4a4123"
    },
    {
      "cell_type": "markdown",
      "source": [
        "## Classification Groundwork"
      ],
      "metadata": {},
      "id": "6881ad35"
    },
    {
      "cell_type": "markdown",
      "source": [
        "### Split data to Training And Testing"
      ],
      "metadata": {},
      "id": "9a3cc81a"
    },
    {
      "cell_type": "code",
      "source": [
        "# Features and Target\n",
        "X = news[\"article\"]\n",
        "y = news[\"category\"]"
      ],
      "outputs": [],
      "execution_count": null,
      "metadata": {},
      "id": "a0469dbd"
    },
    {
      "cell_type": "code",
      "source": [
        "# Perform train-test-split: 20% Test-Size\n",
        "X_train, X_test, y_train, y_test = train_test_split(\n",
        "    X,\n",
        "    y,\n",
        "    test_size=0.2,\n",
        "    random_state=777,\n",
        "    stratify=y # Make sure to have the target column evenly distributed\n",
        ")"
      ],
      "outputs": [],
      "execution_count": null,
      "metadata": {},
      "id": "d89e8fc7"
    }
  ],
  "metadata": {
    "kernelspec": {
      "name": "python3-azureml",
      "language": "python",
      "display_name": "Python 3.6 - AzureML"
    },
    "language_info": {
      "name": "python",
      "version": "3.6.9",
      "mimetype": "text/x-python",
      "codemirror_mode": {
        "name": "ipython",
        "version": 3
      },
      "pygments_lexer": "ipython3",
      "nbconvert_exporter": "python",
      "file_extension": ".py"
    },
    "kernel_info": {
      "name": "python3-azureml"
    },
    "nteract": {
      "version": "nteract-front-end@1.0.0"
    }
  },
  "nbformat": 4,
  "nbformat_minor": 5
}
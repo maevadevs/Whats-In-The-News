{
 "cells": [
  {
   "cell_type": "markdown",
   "id": "premier-saint",
   "metadata": {},
   "source": [
    "# Final Testing on Holdout Set With Logistic Regression Model"
   ]
  },
  {
   "cell_type": "markdown",
   "id": "economic-marsh",
   "metadata": {
    "toc": true
   },
   "source": [
    "<h1>Table of Contents<span class=\"tocSkip\"></span></h1>\n",
    "<div class=\"toc\"><ul class=\"toc-item\"></ul></div>"
   ]
  },
  {
   "cell_type": "code",
   "execution_count": 5,
   "id": "recorded-gravity",
   "metadata": {},
   "outputs": [],
   "source": [
    "# Import libraries\n",
    "import joblib\n",
    "import re\n",
    "import numpy as np\n",
    "import pandas as pd"
   ]
  },
  {
   "cell_type": "code",
   "execution_count": 6,
   "id": "wireless-durham",
   "metadata": {},
   "outputs": [],
   "source": [
    "# Import the Holdout Set\n",
    "houldout_set = pd.read_csv(\"../clean-datasets/exported-from-db/AllTheNews21_Holdout.csv\")"
   ]
  },
  {
   "cell_type": "code",
   "execution_count": 2,
   "id": "early-component",
   "metadata": {},
   "outputs": [],
   "source": [
    "# Import the model to test\n",
    "pickle_file = \"../saved-classification-models/allthenews21/MultinomialLogisticRegression-TFIDF5000-Best-RandomizedSearch3CV.pkl\""
   ]
  },
  {
   "cell_type": "code",
   "execution_count": 3,
   "id": "quick-printer",
   "metadata": {},
   "outputs": [],
   "source": [
    "# This is required by the content of the pickle file\n",
    "def process_text(text):\n",
    "\n",
    "    \"\"\"\n",
    "    Preprocess a given text: \n",
    "        - Lowercase\n",
    "        - Tokenize\n",
    "        - Remove non-needed tokens\n",
    "        - Lemmatize\n",
    "        - Clean\n",
    "    \"\"\"\n",
    "\n",
    "    # Convert to lowercase, replace newlines with spaces, strip whitespaces\n",
    "    text = text.lower().strip()\n",
    "\n",
    "    # Tokenize\n",
    "    word_tokens = word_tokenize(text)\n",
    "    # Convert to a numpy array\n",
    "    word_tokens = np.array(word_tokens)\n",
    "\n",
    "    # Keep only alphabetic characters\n",
    "    is_alpha = list(map(str.isalpha, word_tokens))\n",
    "    word_tokens = word_tokens[is_alpha]\n",
    "\n",
    "    # Remove stopwords\n",
    "    custom_stopwords = [\"said\", \"say\", \"says\"]\n",
    "    stop_words = set(stopwords.words(\"english\") + custom_stopwords)\n",
    "    is_not_stopword = list(map(lambda token: token not in stop_words, word_tokens))\n",
    "    word_tokens = word_tokens[is_not_stopword]\n",
    "\n",
    "    # Lemmatize\n",
    "    lemmatizer = WordNetLemmatizer()\n",
    "    vectorize_lemmatizer = np.vectorize(lemmatizer.lemmatize)\n",
    "    word_tokens = vectorize_lemmatizer(word_tokens)\n",
    "\n",
    "    # Convert into a setence form\n",
    "    sentence = \" \".join(word_tokens)\n",
    "\n",
    "    # Return final tokenized sentence\n",
    "    return sentence"
   ]
  },
  {
   "cell_type": "code",
   "execution_count": 4,
   "id": "equipped-arabic",
   "metadata": {},
   "outputs": [],
   "source": [
    "# Then, recreate the prediction model\n",
    "with open(pickle_file, 'rb') as file:\n",
    "    model = joblib.load(file)"
   ]
  },
  {
   "cell_type": "code",
   "execution_count": null,
   "id": "formal-complex",
   "metadata": {},
   "outputs": [],
   "source": []
  }
 ],
 "metadata": {
  "kernelspec": {
   "display_name": "Python 3",
   "language": "python",
   "name": "python3"
  },
  "language_info": {
   "codemirror_mode": {
    "name": "ipython",
    "version": 3
   },
   "file_extension": ".py",
   "mimetype": "text/x-python",
   "name": "python",
   "nbconvert_exporter": "python",
   "pygments_lexer": "ipython3",
   "version": "3.8.8"
  },
  "toc": {
   "base_numbering": 1,
   "nav_menu": {},
   "number_sections": true,
   "sideBar": true,
   "skip_h1_title": true,
   "title_cell": "Table of Contents",
   "title_sidebar": "Contents",
   "toc_cell": true,
   "toc_position": {},
   "toc_section_display": true,
   "toc_window_display": true
  },
  "varInspector": {
   "cols": {
    "lenName": 16,
    "lenType": 16,
    "lenVar": 40
   },
   "kernels_config": {
    "python": {
     "delete_cmd_postfix": "",
     "delete_cmd_prefix": "del ",
     "library": "var_list.py",
     "varRefreshCmd": "print(var_dic_list())"
    },
    "r": {
     "delete_cmd_postfix": ") ",
     "delete_cmd_prefix": "rm(",
     "library": "var_list.r",
     "varRefreshCmd": "cat(var_dic_list()) "
    }
   },
   "types_to_exclude": [
    "module",
    "function",
    "builtin_function_or_method",
    "instance",
    "_Feature"
   ],
   "window_display": false
  }
 },
 "nbformat": 4,
 "nbformat_minor": 5
}
